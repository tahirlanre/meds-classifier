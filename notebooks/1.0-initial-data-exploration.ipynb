{
 "cells": [
  {
   "cell_type": "code",
   "execution_count": 1,
   "metadata": {},
   "outputs": [],
   "source": [
    "# packages to store and manipulate data\n",
    "import pandas as pd\n",
    "import numpy as np"
   ]
  },
  {
   "cell_type": "code",
   "execution_count": 2,
   "metadata": {},
   "outputs": [],
   "source": [
    "# import data\n",
    "df_training = pd.read_csv('../data/raw/task1_training.tsv', sep='\\t')\n",
    "df_validation = pd.read_csv('../data/raw/task1_validation.tsv', sep='\\t')\n",
    "df_test = pd.read_csv('../data/raw/AnnotationDRUGSInTweets_EMNLPChallenge18_TrainingSetClean.tsv', sep='\\t')"
   ]
  },
  {
   "cell_type": "code",
   "execution_count": 3,
   "metadata": {},
   "outputs": [
    {
     "data": {
      "text/html": [
       "<div>\n",
       "<style scoped>\n",
       "    .dataframe tbody tr th:only-of-type {\n",
       "        vertical-align: middle;\n",
       "    }\n",
       "\n",
       "    .dataframe tbody tr th {\n",
       "        vertical-align: top;\n",
       "    }\n",
       "\n",
       "    .dataframe thead th {\n",
       "        text-align: right;\n",
       "    }\n",
       "</style>\n",
       "<table border=\"1\" class=\"dataframe\">\n",
       "  <thead>\n",
       "    <tr style=\"text-align: right;\">\n",
       "      <th></th>\n",
       "      <th>tweet_id</th>\n",
       "      <th>user_id</th>\n",
       "      <th>tweet</th>\n",
       "      <th>created_at</th>\n",
       "      <th>class</th>\n",
       "    </tr>\n",
       "  </thead>\n",
       "  <tbody>\n",
       "    <tr>\n",
       "      <th>47833</th>\n",
       "      <td>778385820373831680</td>\n",
       "      <td>1143892999</td>\n",
       "      <td>When your tired of telling your kid No, Stop &amp;...</td>\n",
       "      <td>2016-09-21</td>\n",
       "      <td>0</td>\n",
       "    </tr>\n",
       "    <tr>\n",
       "      <th>49295</th>\n",
       "      <td>793063715750883328</td>\n",
       "      <td>109506129</td>\n",
       "      <td>@MiadaDeva he giving u the blues girl... smh</td>\n",
       "      <td>2016-10-31</td>\n",
       "      <td>0</td>\n",
       "    </tr>\n",
       "    <tr>\n",
       "      <th>47697</th>\n",
       "      <td>819645598932602882</td>\n",
       "      <td>2147874931</td>\n",
       "      <td>Yaaasss FINALLY!!!😍😭 https://t.co/RQNH585YKi</td>\n",
       "      <td>2017-01-12</td>\n",
       "      <td>0</td>\n",
       "    </tr>\n",
       "    <tr>\n",
       "      <th>47991</th>\n",
       "      <td>456055728433029120</td>\n",
       "      <td>2281566142</td>\n",
       "      <td>Well doesn't this just suck...</td>\n",
       "      <td>2014-04-15</td>\n",
       "      <td>0</td>\n",
       "    </tr>\n",
       "    <tr>\n",
       "      <th>52850</th>\n",
       "      <td>835597844224622592</td>\n",
       "      <td>21343364</td>\n",
       "      <td>It's been one week since you looked at me</td>\n",
       "      <td>2017-02-25</td>\n",
       "      <td>0</td>\n",
       "    </tr>\n",
       "  </tbody>\n",
       "</table>\n",
       "</div>"
      ],
      "text/plain": [
       "                 tweet_id     user_id  \\\n",
       "47833  778385820373831680  1143892999   \n",
       "49295  793063715750883328   109506129   \n",
       "47697  819645598932602882  2147874931   \n",
       "47991  456055728433029120  2281566142   \n",
       "52850  835597844224622592    21343364   \n",
       "\n",
       "                                                   tweet  created_at  class  \n",
       "47833  When your tired of telling your kid No, Stop &...  2016-09-21      0  \n",
       "49295       @MiadaDeva he giving u the blues girl... smh  2016-10-31      0  \n",
       "47697       Yaaasss FINALLY!!!😍😭 https://t.co/RQNH585YKi  2017-01-12      0  \n",
       "47991                     Well doesn't this just suck...  2014-04-15      0  \n",
       "52850          It's been one week since you looked at me  2017-02-25      0  "
      ]
     },
     "execution_count": 3,
     "metadata": {},
     "output_type": "execute_result"
    }
   ],
   "source": [
    "# check sample of training data\n",
    "df_training.sample(5)"
   ]
  },
  {
   "cell_type": "code",
   "execution_count": 4,
   "metadata": {},
   "outputs": [
    {
     "data": {
      "text/html": [
       "<div>\n",
       "<style scoped>\n",
       "    .dataframe tbody tr th:only-of-type {\n",
       "        vertical-align: middle;\n",
       "    }\n",
       "\n",
       "    .dataframe tbody tr th {\n",
       "        vertical-align: top;\n",
       "    }\n",
       "\n",
       "    .dataframe thead th {\n",
       "        text-align: right;\n",
       "    }\n",
       "</style>\n",
       "<table border=\"1\" class=\"dataframe\">\n",
       "  <thead>\n",
       "    <tr style=\"text-align: right;\">\n",
       "      <th></th>\n",
       "      <th>tweet_id</th>\n",
       "      <th>user_id</th>\n",
       "      <th>tweet</th>\n",
       "      <th>created_at</th>\n",
       "      <th>class</th>\n",
       "    </tr>\n",
       "  </thead>\n",
       "  <tbody>\n",
       "    <tr>\n",
       "      <th>8909</th>\n",
       "      <td>862353859401986050</td>\n",
       "      <td>2147874931</td>\n",
       "      <td>WE ARE SO PROUD OF YOU!🎓 He received 4 certifi...</td>\n",
       "      <td>2017-05-10</td>\n",
       "      <td>0</td>\n",
       "    </tr>\n",
       "    <tr>\n",
       "      <th>11192</th>\n",
       "      <td>484944334186217473</td>\n",
       "      <td>1485346748</td>\n",
       "      <td>I mean look at 16 &amp;amp; pregnant,they REALLY t...</td>\n",
       "      <td>2014-07-04</td>\n",
       "      <td>0</td>\n",
       "    </tr>\n",
       "    <tr>\n",
       "      <th>6527</th>\n",
       "      <td>810713825192398848</td>\n",
       "      <td>1143892999</td>\n",
       "      <td>Man nothing beats being a Mother I wouldn't tr...</td>\n",
       "      <td>2016-12-19</td>\n",
       "      <td>0</td>\n",
       "    </tr>\n",
       "    <tr>\n",
       "      <th>3786</th>\n",
       "      <td>732627439021477888</td>\n",
       "      <td>1143892999</td>\n",
       "      <td>I think this girl want me to beat her tf up si...</td>\n",
       "      <td>2016-05-17</td>\n",
       "      <td>0</td>\n",
       "    </tr>\n",
       "    <tr>\n",
       "      <th>3725</th>\n",
       "      <td>586644560329117697</td>\n",
       "      <td>726992034</td>\n",
       "      <td>My new vans will get here on the 16 excited 🌻</td>\n",
       "      <td>2015-04-10</td>\n",
       "      <td>0</td>\n",
       "    </tr>\n",
       "  </tbody>\n",
       "</table>\n",
       "</div>"
      ],
      "text/plain": [
       "                 tweet_id     user_id  \\\n",
       "8909   862353859401986050  2147874931   \n",
       "11192  484944334186217473  1485346748   \n",
       "6527   810713825192398848  1143892999   \n",
       "3786   732627439021477888  1143892999   \n",
       "3725   586644560329117697   726992034   \n",
       "\n",
       "                                                   tweet  created_at  class  \n",
       "8909   WE ARE SO PROUD OF YOU!🎓 He received 4 certifi...  2017-05-10      0  \n",
       "11192  I mean look at 16 &amp; pregnant,they REALLY t...  2014-07-04      0  \n",
       "6527   Man nothing beats being a Mother I wouldn't tr...  2016-12-19      0  \n",
       "3786   I think this girl want me to beat her tf up si...  2016-05-17      0  \n",
       "3725       My new vans will get here on the 16 excited 🌻  2015-04-10      0  "
      ]
     },
     "execution_count": 4,
     "metadata": {},
     "output_type": "execute_result"
    }
   ],
   "source": [
    "# check sample of validation data\n",
    "df_validation.sample(5)"
   ]
  },
  {
   "cell_type": "code",
   "execution_count": 5,
   "metadata": {},
   "outputs": [
    {
     "data": {
      "text/html": [
       "<div>\n",
       "<style scoped>\n",
       "    .dataframe tbody tr th:only-of-type {\n",
       "        vertical-align: middle;\n",
       "    }\n",
       "\n",
       "    .dataframe tbody tr th {\n",
       "        vertical-align: top;\n",
       "    }\n",
       "\n",
       "    .dataframe thead th {\n",
       "        text-align: right;\n",
       "    }\n",
       "</style>\n",
       "<table border=\"1\" class=\"dataframe\">\n",
       "  <thead>\n",
       "    <tr style=\"text-align: right;\">\n",
       "      <th></th>\n",
       "      <th>tweet_id</th>\n",
       "      <th>user_id</th>\n",
       "      <th>text</th>\n",
       "      <th>created_at</th>\n",
       "      <th>label</th>\n",
       "    </tr>\n",
       "  </thead>\n",
       "  <tbody>\n",
       "    <tr>\n",
       "      <th>806</th>\n",
       "      <td>774177972928380928</td>\n",
       "      <td>27903955</td>\n",
       "      <td>@Jenbells_ I have low b12 and have regular inj...</td>\n",
       "      <td>2016-09-09 09:29:46</td>\n",
       "      <td>1</td>\n",
       "    </tr>\n",
       "    <tr>\n",
       "      <th>2860</th>\n",
       "      <td>583450794638188544</td>\n",
       "      <td>1321321356</td>\n",
       "      <td>He prescribed me codeine. I don't like it. My ...</td>\n",
       "      <td>2015-04-02 02:08:04</td>\n",
       "      <td>1</td>\n",
       "    </tr>\n",
       "    <tr>\n",
       "      <th>4126</th>\n",
       "      <td>719125296025174016</td>\n",
       "      <td>2324581476</td>\n",
       "      <td>A Dose of Dr. Greger’s (Plant-Based) Medicine ...</td>\n",
       "      <td>2016-04-10 11:30:05</td>\n",
       "      <td>0</td>\n",
       "    </tr>\n",
       "    <tr>\n",
       "      <th>1569</th>\n",
       "      <td>386101249961373696</td>\n",
       "      <td>335731901</td>\n",
       "      <td>Omg why did this happen today? Of all days!! -...</td>\n",
       "      <td>2013-10-04 12:11:26</td>\n",
       "      <td>1</td>\n",
       "    </tr>\n",
       "    <tr>\n",
       "      <th>972</th>\n",
       "      <td>840609094457274369</td>\n",
       "      <td>876004801</td>\n",
       "      <td>Ughhhh these Promethazine pills keep putting m...</td>\n",
       "      <td>2017-03-11 17:03:20</td>\n",
       "      <td>1</td>\n",
       "    </tr>\n",
       "  </tbody>\n",
       "</table>\n",
       "</div>"
      ],
      "text/plain": [
       "                tweet_id     user_id  \\\n",
       "806   774177972928380928    27903955   \n",
       "2860  583450794638188544  1321321356   \n",
       "4126  719125296025174016  2324581476   \n",
       "1569  386101249961373696   335731901   \n",
       "972   840609094457274369   876004801   \n",
       "\n",
       "                                                   text           created_at  \\\n",
       "806   @Jenbells_ I have low b12 and have regular inj...  2016-09-09 09:29:46   \n",
       "2860  He prescribed me codeine. I don't like it. My ...  2015-04-02 02:08:04   \n",
       "4126  A Dose of Dr. Greger’s (Plant-Based) Medicine ...  2016-04-10 11:30:05   \n",
       "1569  Omg why did this happen today? Of all days!! -...  2013-10-04 12:11:26   \n",
       "972   Ughhhh these Promethazine pills keep putting m...  2017-03-11 17:03:20   \n",
       "\n",
       "      label  \n",
       "806       1  \n",
       "2860      1  \n",
       "4126      0  \n",
       "1569      1  \n",
       "972       1  "
      ]
     },
     "execution_count": 5,
     "metadata": {},
     "output_type": "execute_result"
    }
   ],
   "source": [
    "# check sample of test data\n",
    "df_test.sample(5)"
   ]
  },
  {
   "cell_type": "code",
   "execution_count": 6,
   "metadata": {},
   "outputs": [
    {
     "data": {
      "text/plain": [
       "0    55273\n",
       "1      146\n",
       "Name: class, dtype: int64"
      ]
     },
     "execution_count": 6,
     "metadata": {},
     "output_type": "execute_result"
    }
   ],
   "source": [
    "df_training['class'].value_counts()"
   ]
  },
  {
   "cell_type": "code",
   "execution_count": 7,
   "metadata": {},
   "outputs": [
    {
     "data": {
      "text/html": [
       "<div>\n",
       "<style scoped>\n",
       "    .dataframe tbody tr th:only-of-type {\n",
       "        vertical-align: middle;\n",
       "    }\n",
       "\n",
       "    .dataframe tbody tr th {\n",
       "        vertical-align: top;\n",
       "    }\n",
       "\n",
       "    .dataframe thead th {\n",
       "        text-align: right;\n",
       "    }\n",
       "</style>\n",
       "<table border=\"1\" class=\"dataframe\">\n",
       "  <thead>\n",
       "    <tr style=\"text-align: right;\">\n",
       "      <th></th>\n",
       "      <th>tweet</th>\n",
       "    </tr>\n",
       "  </thead>\n",
       "  <tbody>\n",
       "    <tr>\n",
       "      <th>24811</th>\n",
       "      <td>this is what l like bae😍 https://t.co/8UnKUFw4Ws</td>\n",
       "    </tr>\n",
       "    <tr>\n",
       "      <th>45869</th>\n",
       "      <td>Don't ask cause I don't know... We're #silly #...</td>\n",
       "    </tr>\n",
       "    <tr>\n",
       "      <th>4442</th>\n",
       "      <td>Pretty sure Dexter just pulled a mooney at @Li...</td>\n",
       "    </tr>\n",
       "    <tr>\n",
       "      <th>25872</th>\n",
       "      <td>Moving into the new house, 2 two days 😮😮😮😮</td>\n",
       "    </tr>\n",
       "    <tr>\n",
       "      <th>52249</th>\n",
       "      <td>Captain crunch cravings are too real at 1AM</td>\n",
       "    </tr>\n",
       "  </tbody>\n",
       "</table>\n",
       "</div>"
      ],
      "text/plain": [
       "                                                   tweet\n",
       "24811   this is what l like bae😍 https://t.co/8UnKUFw4Ws\n",
       "45869  Don't ask cause I don't know... We're #silly #...\n",
       "4442   Pretty sure Dexter just pulled a mooney at @Li...\n",
       "25872         Moving into the new house, 2 two days 😮😮😮😮\n",
       "52249        Captain crunch cravings are too real at 1AM"
      ]
     },
     "execution_count": 7,
     "metadata": {},
     "output_type": "execute_result"
    }
   ],
   "source": [
    "df_training.loc[df_training['class'] == 0].sample(5)[['tweet']]"
   ]
  },
  {
   "cell_type": "code",
   "execution_count": 8,
   "metadata": {},
   "outputs": [
    {
     "data": {
      "text/plain": [
       "0    13818\n",
       "1       35\n",
       "Name: class, dtype: int64"
      ]
     },
     "execution_count": 8,
     "metadata": {},
     "output_type": "execute_result"
    }
   ],
   "source": [
    "df_validation['class'].value_counts()"
   ]
  },
  {
   "cell_type": "code",
   "execution_count": 9,
   "metadata": {},
   "outputs": [
    {
     "data": {
      "text/plain": [
       "1    4975\n",
       "0    4647\n",
       "Name: label, dtype: int64"
      ]
     },
     "execution_count": 9,
     "metadata": {},
     "output_type": "execute_result"
    }
   ],
   "source": [
    "df_test['label'].value_counts()"
   ]
  },
  {
   "cell_type": "code",
   "execution_count": 10,
   "metadata": {},
   "outputs": [],
   "source": [
    "# rename columns\n",
    "df_training = df_training.rename(columns={'class' : 'label', 'tweet': 'text'})\n",
    "df_validation = df_validation.rename(columns={'class' : 'label', 'tweet': 'text'})"
   ]
  },
  {
   "cell_type": "markdown",
   "metadata": {},
   "source": [
    "#### Export data with necessary columns only"
   ]
  },
  {
   "cell_type": "code",
   "execution_count": 11,
   "metadata": {},
   "outputs": [],
   "source": [
    "df_training.to_csv('../data/interim/train.csv', columns = ['label', 'text'], index=False, header=False)\n",
    "df_validation.to_csv('../data/interim/valid.csv', columns = ['label', 'text'], index=False, header=False)\n",
    "df_test.to_csv('../data/interim/test.csv', columns = ['label', 'text'], index=False, header=False)"
   ]
  }
 ],
 "metadata": {
  "kernelspec": {
   "display_name": "Python 3",
   "language": "python",
   "name": "python3"
  },
  "language_info": {
   "codemirror_mode": {
    "name": "ipython",
    "version": 3
   },
   "file_extension": ".py",
   "mimetype": "text/x-python",
   "name": "python",
   "nbconvert_exporter": "python",
   "pygments_lexer": "ipython3",
   "version": "3.8.1"
  }
 },
 "nbformat": 4,
 "nbformat_minor": 2
}
